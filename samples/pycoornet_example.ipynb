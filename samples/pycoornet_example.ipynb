{
 "metadata": {
  "language_info": {
   "codemirror_mode": {
    "name": "ipython",
    "version": 3
   },
   "file_extension": ".py",
   "mimetype": "text/x-python",
   "name": "python",
   "nbconvert_exporter": "python",
   "pygments_lexer": "ipython3",
   "version": "3.8.3-final"
  },
  "orig_nbformat": 2,
  "kernelspec": {
   "name": "python3",
   "display_name": "Python 3.8.3 64-bit ('base': conda)",
   "metadata": {
    "interpreter": {
     "hash": "50a385b5d82c4f1affd589f5555ad618ac44e76932e850a47f19a69a9b46c018"
    }
   }
  }
 },
 "nbformat": 4,
 "nbformat_minor": 2,
 "cells": [
  {
   "source": [
    "# Pycoornet Example\n",
    "\n"
   ],
   "cell_type": "markdown",
   "metadata": {}
  },
  {
   "cell_type": "code",
   "execution_count": null,
   "metadata": {},
   "outputs": [],
   "source": [
    "# Install pycoornet\n",
    "!pip install -U pycoornet -q"
   ]
  },
  {
   "source": [
    "## Import libraries"
   ],
   "cell_type": "markdown",
   "metadata": {}
  },
  {
   "cell_type": "code",
   "execution_count": null,
   "metadata": {},
   "outputs": [],
   "source": [
    "from pycoornet.crowdtangle import CrowdTangle\n",
    "from pycoornet.shared import Shared\n",
    "from pycoornet.statistics import Statistics\n",
    "import networkx as nx\n",
    "import numpy as np\n",
    "import pandas as pd\n",
    "import logging"
   ]
  },
  {
   "source": [
    "## Get Links"
   ],
   "cell_type": "markdown",
   "metadata": {}
  },
  {
   "cell_type": "code",
   "execution_count": null,
   "metadata": {},
   "outputs": [],
   "source": [
    "# Read data links\n",
    "links_df = pd.read_csv('sample_source_links.csv')"
   ]
  },
  {
   "cell_type": "code",
   "execution_count": null,
   "metadata": {},
   "outputs": [],
   "source": [
    "links_df.info()"
   ]
  },
  {
   "source": [
    "## Get Crowdtangle information"
   ],
   "cell_type": "markdown",
   "metadata": {}
  },
  {
   "cell_type": "code",
   "execution_count": null,
   "metadata": {},
   "outputs": [],
   "source": [
    "# start logging info\n",
    "logging.basicConfig(level=logging.INFO, filename=\"pycoornet.log\")"
   ]
  },
  {
   "cell_type": "code",
   "execution_count": null,
   "metadata": {},
   "outputs": [],
   "source": [
    "# init Crowtangle with api key\n",
    "crowd_tangle = CrowdTangle(\"xxxxxxxxxxxxxxxxxxxxxxxxxxxxxxx\")"
   ]
  },
  {
   "cell_type": "code",
   "execution_count": null,
   "metadata": {},
   "outputs": [],
   "source": [
    "#Get links from crowdtangle\n",
    "ct_df = crowd_tangle.get_shares(urls=links_df, url_column='clean_url', date_column='date',clean_urls=True, platforms='facebook', sleep_time=30)"
   ]
  },
  {
   "cell_type": "code",
   "execution_count": null,
   "metadata": {},
   "outputs": [],
   "source": [
    "shared = Shared(ct_df)\n",
    "crowtangle_shares_df, shares_graph, q = shared.coord_shares(clean_urls=True)"
   ]
  },
  {
   "source": [
    "## Build Gephi File"
   ],
   "cell_type": "markdown",
   "metadata": {}
  },
  {
   "cell_type": "code",
   "execution_count": null,
   "metadata": {},
   "outputs": [],
   "source": [
    "for node in shares_graph.nodes(data=True):\n",
    "    node[1]['label']=node[1]['account_name']\n",
    "nx.write_gexf(shares_graph, \"out/shares_network.gexf\")"
   ]
  },
  {
   "source": [
    "### Plot Network"
   ],
   "cell_type": "markdown",
   "metadata": {}
  },
  {
   "cell_type": "code",
   "execution_count": null,
   "metadata": {},
   "outputs": [],
   "source": [
    "import logging\n",
    "import math\n",
    "import matplotlib as mpl\n",
    "import matplotlib.pyplot as plt\n",
    "\n",
    "#install plotly for the 3d network interactive plot\n",
    "import plotly.graph_objects as go\n",
    "\n",
    "from pycoornet.utils import Utils"
   ]
  },
  {
   "cell_type": "code",
   "execution_count": null,
   "metadata": {},
   "outputs": [],
   "source": [
    "colors = [node[1]['cluster'] for node in shares_graph.nodes(data=True)]\n",
    "low, *_, high = sorted(colors)\n",
    "norm = mpl.colors.Normalize(vmin=low, vmax=high, clip=True)\n",
    "mapper = mpl.cm.ScalarMappable(norm=norm, cmap=mpl.cm.coolwarm)"
   ]
  },
  {
   "cell_type": "code",
   "execution_count": null,
   "metadata": {},
   "outputs": [],
   "source": [
    "labels = {node[0]:node[1]['account_name'][0:15] for node in shares_graph.nodes(data=True)}"
   ]
  },
  {
   "cell_type": "code",
   "execution_count": null,
   "metadata": {},
   "outputs": [],
   "source": [
    "strengths = [node[1]['strength'] for node in shares_graph.nodes(data=True)]"
   ]
  },
  {
   "cell_type": "code",
   "execution_count": null,
   "metadata": {},
   "outputs": [],
   "source": [
    "nx_layout = nx.spring_layout(shares_graph,dim=3, seed=18, k=5/math.sqrt(shares_graph.order()))"
   ]
  },
  {
   "cell_type": "code",
   "execution_count": null,
   "metadata": {},
   "outputs": [],
   "source": [
    "nx_2d_layout = nx.spring_layout(shares_graph,iterations=70, k=7/math.sqrt(shares_graph.order()), seed=18)\n",
    "plt.figure(figsize=(10,10))\n",
    "nx.draw(shares_graph,\n",
    "        pos=nx_2d_layout, \n",
    "        cmap=plt.get_cmap('viridis'), \n",
    "        node_color=colors,\n",
    "        with_labels=False)\n",
    "fig = nx.draw_networkx_labels(shares_graph, pos=nx_2d_layout, labels=labels)"
   ]
  },
  {
   "cell_type": "code",
   "execution_count": null,
   "metadata": {},
   "outputs": [],
   "source": [
    "x_nodes = [value[0] for key, value in nx_layout.items()]\n",
    "y_nodes = [value[1] for key, value in nx_layout.items()]\n",
    "z_nodes = [value[2] for key, value in nx_layout.items()]"
   ]
  },
  {
   "cell_type": "code",
   "execution_count": null,
   "metadata": {},
   "outputs": [],
   "source": [
    "edge_list = shares_graph.edges"
   ]
  },
  {
   "cell_type": "code",
   "execution_count": null,
   "metadata": {},
   "outputs": [],
   "source": [
    "norm = np.linalg.norm(strength)\n",
    "normal_strength = strength/norm"
   ]
  },
  {
   "cell_type": "code",
   "execution_count": null,
   "metadata": {},
   "outputs": [],
   "source": [
    "#we  need to create lists that contain the starting and ending coordinates of each edge.\n",
    "x_edges=[]\n",
    "y_edges=[]\n",
    "z_edges=[]\n",
    "\n",
    "#need to fill these with all of the coordiates\n",
    "for edge in edge_list:\n",
    "    #format: [beginning,ending,None]\n",
    "    x_coords = [nx_layout[edge[0]][0],nx_layout[edge[1]][0],None]\n",
    "    x_edges += x_coords\n",
    "\n",
    "    y_coords = [nx_layout[edge[0]][1],nx_layout[edge[1]][1],None]\n",
    "    y_edges += y_coords\n",
    "\n",
    "    z_coords = [nx_layout[edge[0]][2],nx_layout[edge[1]][2],None]\n",
    "    z_edges += z_coords"
   ]
  },
  {
   "cell_type": "code",
   "execution_count": null,
   "metadata": {},
   "outputs": [],
   "source": [
    "#create a trace for the edges\n",
    "trace_edges = go.Scatter3d(x=x_edges,\n",
    "                        y=y_edges,\n",
    "                        z=z_edges,\n",
    "                        mode='lines',\n",
    "                        line=dict(color='rgb(125,125,125)', width=1),\n",
    "                        hoverinfo='none')"
   ]
  },
  {
   "cell_type": "code",
   "execution_count": null,
   "metadata": {},
   "outputs": [],
   "source": [
    "#create a trace for the nodes\n",
    "trace_nodes = go.Scatter3d(x=x_nodes,\n",
    "                         y=y_nodes,\n",
    "                        z=z_nodes,\n",
    "                        mode='markers',\n",
    "                        marker=dict(symbol='circle',\n",
    "                                    size=normal_strength * 150,\n",
    "                                    color=colors, #color the nodes according to their community\n",
    "                                    colorscale='Viridis',\n",
    "                                    line=dict(color='rgb(50,50,50)', width=0.5)),\n",
    "                        text=[node[1]['account_name'] for node in shares_graph.nodes(data=True)],\n",
    "                        hoverinfo='text')"
   ]
  },
  {
   "cell_type": "code",
   "execution_count": null,
   "metadata": {},
   "outputs": [],
   "source": [
    "#we need to set the axis for the plot \n",
    "axis = dict(showbackground=False,\n",
    "            showline=False,\n",
    "            zeroline=False,\n",
    "            showgrid=False,\n",
    "            showticklabels=False,\n",
    "            title='')"
   ]
  },
  {
   "cell_type": "code",
   "execution_count": null,
   "metadata": {},
   "outputs": [],
   "source": [
    "#also need to create the layout for our plot\n",
    "layout = go.Layout(title=\"Network Results\",\n",
    "                width=650,\n",
    "                height=625,\n",
    "                showlegend=False,\n",
    "                scene=dict(xaxis=dict(axis),\n",
    "                        yaxis=dict(axis),\n",
    "                        zaxis=dict(axis),\n",
    "                        ),\n",
    "                margin=dict(t=100),\n",
    "                hovermode='closest')"
   ]
  },
  {
   "cell_type": "code",
   "execution_count": null,
   "metadata": {},
   "outputs": [],
   "source": [
    "#Include the traces we want to plot and create a figure\n",
    "data = [trace_edges, trace_nodes]\n",
    "fig = go.Figure(data=data, layout=layout)\n",
    "fig.show()"
   ]
  },
  {
   "source": [
    "## Get General Statistical Information"
   ],
   "cell_type": "markdown",
   "metadata": {}
  },
  {
   "cell_type": "code",
   "execution_count": null,
   "metadata": {},
   "outputs": [],
   "source": [
    "componet_summary_df = Statistics.component_summary(crowtangle_shares_df, shares_graph)"
   ]
  },
  {
   "cell_type": "code",
   "execution_count": null,
   "metadata": {},
   "outputs": [],
   "source": [
    "componet_summary_df"
   ]
  },
  {
   "cell_type": "code",
   "execution_count": null,
   "metadata": {},
   "outputs": [],
   "source": [
    "top_urls_df = Statistics.get_top_coord_urls(crowtangle_shares_df, shares_graph)"
   ]
  },
  {
   "cell_type": "code",
   "execution_count": null,
   "metadata": {},
   "outputs": [],
   "source": [
    "top_urls_df"
   ]
  },
  {
   "source": [
    "## Acknowledgements\n",
    "CooRnet has been developed as part of the project [Social Media Behaviour](https://upb-ss1.github.io/) research project activities.\n",
    "\n",
    "The project is supported by a the Social Media and Democracy Research Grants from Social Science Research Council (SSRC). Data and tools provided by Facebook."
   ],
   "cell_type": "markdown",
   "metadata": {}
  }
 ]
}