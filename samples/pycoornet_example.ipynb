{
 "metadata": {
  "language_info": {
   "codemirror_mode": {
    "name": "ipython",
    "version": 3
   },
   "file_extension": ".py",
   "mimetype": "text/x-python",
   "name": "python",
   "nbconvert_exporter": "python",
   "pygments_lexer": "ipython3",
   "version": "3.8.3"
  },
  "orig_nbformat": 2,
  "kernelspec": {
   "name": "python383jvsc74a57bd050a385b5d82c4f1affd589f5555ad618ac44e76932e850a47f19a69a9b46c018",
   "display_name": "Python 3.8.3 64-bit ('base': conda)"
  }
 },
 "nbformat": 4,
 "nbformat_minor": 2,
 "cells": [
  {
   "source": [
    "# Pycoornet Example"
   ],
   "cell_type": "markdown",
   "metadata": {}
  },
  {
   "cell_type": "code",
   "execution_count": 1,
   "metadata": {},
   "outputs": [],
   "source": [
    "# Install pycoornet\n",
    "!pip install pycoornet -q"
   ]
  },
  {
   "source": [
    "## Import libraries"
   ],
   "cell_type": "markdown",
   "metadata": {}
  },
  {
   "cell_type": "code",
   "execution_count": 2,
   "metadata": {},
   "outputs": [],
   "source": [
    "from pycoornet.crowdtangle import CrowdTangle\n",
    "from pycoornet.shared import Shared\n",
    "from pycoornet.statistics import Statistics\n",
    "import networkx as nx\n",
    "import numpy as np\n",
    "import matplotlib.pyplot as plt\n",
    "import pandas as pd\n",
    "import logging"
   ]
  },
  {
   "source": [
    "## Get Links"
   ],
   "cell_type": "markdown",
   "metadata": {}
  },
  {
   "cell_type": "code",
   "execution_count": 3,
   "metadata": {},
   "outputs": [],
   "source": [
    "# Read data links\n",
    "links_df = pd.read_csv('sample_source_links.csv')"
   ]
  },
  {
   "cell_type": "code",
   "execution_count": 4,
   "metadata": {},
   "outputs": [
    {
     "output_type": "stream",
     "name": "stdout",
     "text": [
      "<class 'pandas.core.frame.DataFrame'>\nRangeIndex: 2 entries, 0 to 1\nData columns (total 3 columns):\n #   Column     Non-Null Count  Dtype \n---  ------     --------------  ----- \n 0   url_rid    2 non-null      object\n 1   clean_url  2 non-null      object\n 2   date       2 non-null      object\ndtypes: object(3)\nmemory usage: 176.0+ bytes\n"
     ]
    }
   ],
   "source": [
    "links_df.info()"
   ]
  },
  {
   "cell_type": "code",
   "execution_count": 5,
   "metadata": {},
   "outputs": [],
   "source": [
    "links_df.rename(columns={'first_post_time': 'date'}, inplace=True)"
   ]
  },
  {
   "source": [
    "## Get Crowdtangle information"
   ],
   "cell_type": "markdown",
   "metadata": {}
  },
  {
   "cell_type": "code",
   "execution_count": 6,
   "metadata": {},
   "outputs": [],
   "source": [
    "# start logging info\n",
    "logging.basicConfig(level=logging.INFO, filename=\"pycoornet.log\")"
   ]
  },
  {
   "cell_type": "code",
   "execution_count": 7,
   "metadata": {},
   "outputs": [],
   "source": [
    "# init Crowtangle with api key\n",
    "crowd_tangle = CrowdTangle(\"xxxxxxxxxxxx\")"
   ]
  },
  {
   "cell_type": "code",
   "execution_count": 8,
   "metadata": {},
   "outputs": [
    {
     "output_type": "stream",
     "name": "stderr",
     "text": [
      "100%|██████████| 2/2 [00:14<00:00,  7.49s/it]\n"
     ]
    }
   ],
   "source": [
    "#Get links from crowdtangle\n",
    "ct_df = crowd_tangle.get_shares(urls=links_df, url_column='clean_url', date_column='date',clean_urls=True, platforms='facebook', sleep_time=4)"
   ]
  },
  {
   "cell_type": "code",
   "execution_count": 9,
   "metadata": {},
   "outputs": [
    {
     "output_type": "stream",
     "name": "stderr",
     "text": [
      "100%|██████████| 2/2 [00:00<00:00, 28.94it/s]\n"
     ]
    }
   ],
   "source": [
    "shared = Shared()\n",
    "crowtangle_shares_df, shares_graph, q = shared.coord_shares(ct_df, clean_urls=True)"
   ]
  },
  {
   "source": [
    "## Build Gephi File"
   ],
   "cell_type": "markdown",
   "metadata": {}
  },
  {
   "cell_type": "code",
   "execution_count": 10,
   "metadata": {},
   "outputs": [],
   "source": [
    "for node in shares_graph.nodes(data=True):\n",
    "    node[1]['label']=node[1]['account_name']\n",
    "nx.write_gexf(shares_graph, \"out/shares.gexf\")"
   ]
  },
  {
   "cell_type": "code",
   "execution_count": 11,
   "metadata": {},
   "outputs": [],
   "source": [
    "coord_graph = shares_graph"
   ]
  },
  {
   "cell_type": "code",
   "execution_count": 12,
   "metadata": {},
   "outputs": [],
   "source": [
    "coord_graph.remove_edges_from(nx.selfloop_edges(coord_graph))"
   ]
  },
  {
   "cell_type": "code",
   "execution_count": 13,
   "metadata": {},
   "outputs": [],
   "source": [
    "layout = nx.spring_layout(coord_graph,iterations=50)"
   ]
  },
  {
   "cell_type": "code",
   "execution_count": 14,
   "metadata": {},
   "outputs": [],
   "source": [
    "account_urls = list(crowtangle_shares_df['account_url'].unique())\n",
    "urls = list(crowtangle_shares_df['link'].unique())"
   ]
  },
  {
   "source": [
    "### Plot Network"
   ],
   "cell_type": "markdown",
   "metadata": {}
  },
  {
   "cell_type": "code",
   "execution_count": 15,
   "metadata": {},
   "outputs": [
    {
     "output_type": "error",
     "ename": "NetworkXError",
     "evalue": "Node 'https://www.telesurenglish.net/news/UNGA-Overwhelmingly-Votes-Against-Cuba-Blockade-All-US-Amendments-Defeated-20181101-0027.html' has no position.",
     "traceback": [
      "\u001b[0;31m---------------------------------------------------------------------------\u001b[0m",
      "\u001b[0;31mKeyError\u001b[0m                                  Traceback (most recent call last)",
      "\u001b[0;32m~/anaconda3/lib/python3.8/site-packages/networkx/drawing/nx_pylab.py\u001b[0m in \u001b[0;36mdraw_networkx_nodes\u001b[0;34m(G, pos, nodelist, node_size, node_color, node_shape, alpha, cmap, vmin, vmax, ax, linewidths, edgecolors, label)\u001b[0m\n\u001b[1;32m    455\u001b[0m     \u001b[0;32mtry\u001b[0m\u001b[0;34m:\u001b[0m\u001b[0;34m\u001b[0m\u001b[0;34m\u001b[0m\u001b[0m\n\u001b[0;32m--> 456\u001b[0;31m         \u001b[0mxy\u001b[0m \u001b[0;34m=\u001b[0m \u001b[0mnp\u001b[0m\u001b[0;34m.\u001b[0m\u001b[0masarray\u001b[0m\u001b[0;34m(\u001b[0m\u001b[0;34m[\u001b[0m\u001b[0mpos\u001b[0m\u001b[0;34m[\u001b[0m\u001b[0mv\u001b[0m\u001b[0;34m]\u001b[0m \u001b[0;32mfor\u001b[0m \u001b[0mv\u001b[0m \u001b[0;32min\u001b[0m \u001b[0mnodelist\u001b[0m\u001b[0;34m]\u001b[0m\u001b[0;34m)\u001b[0m\u001b[0;34m\u001b[0m\u001b[0;34m\u001b[0m\u001b[0m\n\u001b[0m\u001b[1;32m    457\u001b[0m     \u001b[0;32mexcept\u001b[0m \u001b[0mKeyError\u001b[0m \u001b[0;32mas\u001b[0m \u001b[0me\u001b[0m\u001b[0;34m:\u001b[0m\u001b[0;34m\u001b[0m\u001b[0;34m\u001b[0m\u001b[0m\n",
      "\u001b[0;32m~/anaconda3/lib/python3.8/site-packages/networkx/drawing/nx_pylab.py\u001b[0m in \u001b[0;36m<listcomp>\u001b[0;34m(.0)\u001b[0m\n\u001b[1;32m    455\u001b[0m     \u001b[0;32mtry\u001b[0m\u001b[0;34m:\u001b[0m\u001b[0;34m\u001b[0m\u001b[0;34m\u001b[0m\u001b[0m\n\u001b[0;32m--> 456\u001b[0;31m         \u001b[0mxy\u001b[0m \u001b[0;34m=\u001b[0m \u001b[0mnp\u001b[0m\u001b[0;34m.\u001b[0m\u001b[0masarray\u001b[0m\u001b[0;34m(\u001b[0m\u001b[0;34m[\u001b[0m\u001b[0mpos\u001b[0m\u001b[0;34m[\u001b[0m\u001b[0mv\u001b[0m\u001b[0;34m]\u001b[0m \u001b[0;32mfor\u001b[0m \u001b[0mv\u001b[0m \u001b[0;32min\u001b[0m \u001b[0mnodelist\u001b[0m\u001b[0;34m]\u001b[0m\u001b[0;34m)\u001b[0m\u001b[0;34m\u001b[0m\u001b[0;34m\u001b[0m\u001b[0m\n\u001b[0m\u001b[1;32m    457\u001b[0m     \u001b[0;32mexcept\u001b[0m \u001b[0mKeyError\u001b[0m \u001b[0;32mas\u001b[0m \u001b[0me\u001b[0m\u001b[0;34m:\u001b[0m\u001b[0;34m\u001b[0m\u001b[0;34m\u001b[0m\u001b[0m\n",
      "\u001b[0;31mKeyError\u001b[0m: 'https://www.telesurenglish.net/news/UNGA-Overwhelmingly-Votes-Against-Cuba-Blockade-All-US-Amendments-Defeated-20181101-0027.html'",
      "\nThe above exception was the direct cause of the following exception:\n",
      "\u001b[0;31mNetworkXError\u001b[0m                             Traceback (most recent call last)",
      "\u001b[0;32m<ipython-input-15-f9640e53eb24>\u001b[0m in \u001b[0;36m<module>\u001b[0;34m\u001b[0m\n\u001b[1;32m      1\u001b[0m \u001b[0mplt\u001b[0m\u001b[0;34m.\u001b[0m\u001b[0mfigure\u001b[0m\u001b[0;34m(\u001b[0m\u001b[0mfigsize\u001b[0m\u001b[0;34m=\u001b[0m\u001b[0;34m(\u001b[0m\u001b[0;36m15\u001b[0m\u001b[0;34m,\u001b[0m \u001b[0;36m15\u001b[0m\u001b[0;34m)\u001b[0m\u001b[0;34m)\u001b[0m\u001b[0;34m\u001b[0m\u001b[0;34m\u001b[0m\u001b[0m\n\u001b[1;32m      2\u001b[0m \u001b[0;31m#url_size = [coord_graph.degree(url)*80 for url in urls]\u001b[0m\u001b[0;34m\u001b[0m\u001b[0;34m\u001b[0m\u001b[0;34m\u001b[0m\u001b[0m\n\u001b[0;32m----> 3\u001b[0;31m nx.draw_networkx_nodes(coord_graph, \n\u001b[0m\u001b[1;32m      4\u001b[0m                        \u001b[0mlayout\u001b[0m\u001b[0;34m,\u001b[0m\u001b[0;34m\u001b[0m\u001b[0;34m\u001b[0m\u001b[0m\n\u001b[1;32m      5\u001b[0m                        \u001b[0mnodelist\u001b[0m\u001b[0;34m=\u001b[0m\u001b[0murls\u001b[0m\u001b[0;34m,\u001b[0m\u001b[0;34m\u001b[0m\u001b[0;34m\u001b[0m\u001b[0m\n",
      "\u001b[0;32m~/anaconda3/lib/python3.8/site-packages/networkx/drawing/nx_pylab.py\u001b[0m in \u001b[0;36mdraw_networkx_nodes\u001b[0;34m(G, pos, nodelist, node_size, node_color, node_shape, alpha, cmap, vmin, vmax, ax, linewidths, edgecolors, label)\u001b[0m\n\u001b[1;32m    456\u001b[0m         \u001b[0mxy\u001b[0m \u001b[0;34m=\u001b[0m \u001b[0mnp\u001b[0m\u001b[0;34m.\u001b[0m\u001b[0masarray\u001b[0m\u001b[0;34m(\u001b[0m\u001b[0;34m[\u001b[0m\u001b[0mpos\u001b[0m\u001b[0;34m[\u001b[0m\u001b[0mv\u001b[0m\u001b[0;34m]\u001b[0m \u001b[0;32mfor\u001b[0m \u001b[0mv\u001b[0m \u001b[0;32min\u001b[0m \u001b[0mnodelist\u001b[0m\u001b[0;34m]\u001b[0m\u001b[0;34m)\u001b[0m\u001b[0;34m\u001b[0m\u001b[0;34m\u001b[0m\u001b[0m\n\u001b[1;32m    457\u001b[0m     \u001b[0;32mexcept\u001b[0m \u001b[0mKeyError\u001b[0m \u001b[0;32mas\u001b[0m \u001b[0me\u001b[0m\u001b[0;34m:\u001b[0m\u001b[0;34m\u001b[0m\u001b[0;34m\u001b[0m\u001b[0m\n\u001b[0;32m--> 458\u001b[0;31m         \u001b[0;32mraise\u001b[0m \u001b[0mnx\u001b[0m\u001b[0;34m.\u001b[0m\u001b[0mNetworkXError\u001b[0m\u001b[0;34m(\u001b[0m\u001b[0;34mf\"Node {e} has no position.\"\u001b[0m\u001b[0;34m)\u001b[0m \u001b[0;32mfrom\u001b[0m \u001b[0me\u001b[0m\u001b[0;34m\u001b[0m\u001b[0;34m\u001b[0m\u001b[0m\n\u001b[0m\u001b[1;32m    459\u001b[0m     \u001b[0;32mexcept\u001b[0m \u001b[0mValueError\u001b[0m \u001b[0;32mas\u001b[0m \u001b[0me\u001b[0m\u001b[0;34m:\u001b[0m\u001b[0;34m\u001b[0m\u001b[0;34m\u001b[0m\u001b[0m\n\u001b[1;32m    460\u001b[0m         \u001b[0;32mraise\u001b[0m \u001b[0mnx\u001b[0m\u001b[0;34m.\u001b[0m\u001b[0mNetworkXError\u001b[0m\u001b[0;34m(\u001b[0m\u001b[0;34m\"Bad value in node positions.\"\u001b[0m\u001b[0;34m)\u001b[0m \u001b[0;32mfrom\u001b[0m \u001b[0me\u001b[0m\u001b[0;34m\u001b[0m\u001b[0;34m\u001b[0m\u001b[0m\n",
      "\u001b[0;31mNetworkXError\u001b[0m: Node 'https://www.telesurenglish.net/news/UNGA-Overwhelmingly-Votes-Against-Cuba-Blockade-All-US-Amendments-Defeated-20181101-0027.html' has no position."
     ]
    }
   ],
   "source": [
    "plt.figure(figsize=(15, 15))\n",
    "#url_size = [coord_graph.degree(url)*80 for url in urls]\n",
    "nx.draw_networkx_nodes(coord_graph, \n",
    "                       layout, \n",
    "                       nodelist=urls, \n",
    "                       #node_size=url_size,\n",
    "                       node_color='lightblue')\n",
    "nx.draw_networkx_nodes(coord_graph, layout, nodelist=urls, node_color='#cccccc', node_size=100)\n",
    "# Draw Popular links\n",
    "popular_account_url = [account_url for account_url in account_urls if coord_graph.degree(account_url) > 3]\n",
    "nx.draw_networkx_nodes(coord_graph, layout, nodelist=popular_account_url, node_color='orange', node_size=100)\n",
    "nx.draw_networkx_edges(coord_graph, layout, width=1, edge_color=\"#cccccc\")\n",
    "plt.show()"
   ]
  },
  {
   "source": [
    "## Get General Statistical Information"
   ],
   "cell_type": "markdown",
   "metadata": {}
  },
  {
   "cell_type": "code",
   "execution_count": 16,
   "metadata": {},
   "outputs": [],
   "source": [
    "componet_summary_df = Statistics.component_summary(crowtangle_shares_df, shares_graph)"
   ]
  },
  {
   "cell_type": "code",
   "execution_count": 17,
   "metadata": {},
   "outputs": [
    {
     "output_type": "execute_result",
     "data": {
      "text/plain": [
       "   component  entities  avg_subscriber_count  coor_share_ratio_avg  \\\n",
       "0          1       150          30428.773333                   0.5   \n",
       "\n",
       "   coor_score_avg page_admin_top_country  facebook_page  facebook_group  \\\n",
       "0        1.000268                    nan             85              65   \n",
       "\n",
       "   facebook_profile  unique_full_domain  unique_parent_domain  \\\n",
       "0               0.0                   1                     1   \n",
       "\n",
       "   gini_full_domain  gini_parent_domain           top_full_domain  \\\n",
       "0               0.0                 0.0  [www.telesurenglish.net]   \n",
       "\n",
       "      top_parent_domain  \n",
       "0  [telesurenglish.net]  "
      ],
      "text/html": "<div>\n<style scoped>\n    .dataframe tbody tr th:only-of-type {\n        vertical-align: middle;\n    }\n\n    .dataframe tbody tr th {\n        vertical-align: top;\n    }\n\n    .dataframe thead th {\n        text-align: right;\n    }\n</style>\n<table border=\"1\" class=\"dataframe\">\n  <thead>\n    <tr style=\"text-align: right;\">\n      <th></th>\n      <th>component</th>\n      <th>entities</th>\n      <th>avg_subscriber_count</th>\n      <th>coor_share_ratio_avg</th>\n      <th>coor_score_avg</th>\n      <th>page_admin_top_country</th>\n      <th>facebook_page</th>\n      <th>facebook_group</th>\n      <th>facebook_profile</th>\n      <th>unique_full_domain</th>\n      <th>unique_parent_domain</th>\n      <th>gini_full_domain</th>\n      <th>gini_parent_domain</th>\n      <th>top_full_domain</th>\n      <th>top_parent_domain</th>\n    </tr>\n  </thead>\n  <tbody>\n    <tr>\n      <th>0</th>\n      <td>1</td>\n      <td>150</td>\n      <td>30428.773333</td>\n      <td>0.5</td>\n      <td>1.000268</td>\n      <td>nan</td>\n      <td>85</td>\n      <td>65</td>\n      <td>0.0</td>\n      <td>1</td>\n      <td>1</td>\n      <td>0.0</td>\n      <td>0.0</td>\n      <td>[www.telesurenglish.net]</td>\n      <td>[telesurenglish.net]</td>\n    </tr>\n  </tbody>\n</table>\n</div>"
     },
     "metadata": {},
     "execution_count": 17
    }
   ],
   "source": [
    "componet_summary_df"
   ]
  },
  {
   "cell_type": "code",
   "execution_count": 18,
   "metadata": {},
   "outputs": [],
   "source": [
    "top_urls_df = Statistics.get_top_coord_urls(crowtangle_shares_df, shares_graph)"
   ]
  },
  {
   "cell_type": "code",
   "execution_count": 19,
   "metadata": {},
   "outputs": [
    {
     "output_type": "execute_result",
     "data": {
      "text/plain": [
       "                                            expanded  \\\n",
       "0  https://www.telesurenglish.net/news/Bolivia-Ro...   \n",
       "1  https://www.telesurenglish.net/news/UNGA-Overw...   \n",
       "\n",
       "   statistics_actual_likeCount  statistics_actual_shareCount  \\\n",
       "0                        13101                          9151   \n",
       "1                         3916                          4143   \n",
       "\n",
       "   statistics_actual_commentCount  statistics_actual_loveCount  \\\n",
       "0                             906                         2898   \n",
       "1                             257                          857   \n",
       "\n",
       "   statistics_actual_wowCount  statistics_actual_hahaCount  \\\n",
       "0                         520                           36   \n",
       "1                         142                           34   \n",
       "\n",
       "   statistics_actual_sadCount  statistics_actual_angryCount  engagement  \\\n",
       "0                          35                            17       26664   \n",
       "1                          12                            34        9395   \n",
       "\n",
       "   count                                        account_url  \\\n",
       "0    108  [https://www.facebook.com/1031686746989127, ht...   \n",
       "1     50  [https://www.facebook.com/1147524838680378, ht...   \n",
       "\n",
       "                                    coor_account_url  \\\n",
       "0  [https://www.facebook.com/1031686746989127, ht...   \n",
       "1  [https://www.facebook.com/1147524838680378, ht...   \n",
       "\n",
       "                                        account_name  \\\n",
       "0  [AFROMEXICO, Adriana Avendaño Christie, Age of...   \n",
       "1  [#UniteTheTribes, AZANIAN TRUE POLITICAL HISTO...   \n",
       "\n",
       "                                   coor_account_name components  \n",
       "0  [AFROMEXICO, Adriana Avendaño Christie, Age of...        [1]  \n",
       "1  [#UniteTheTribes, Asuntos Cubanos, Australia C...        [1]  "
      ],
      "text/html": "<div>\n<style scoped>\n    .dataframe tbody tr th:only-of-type {\n        vertical-align: middle;\n    }\n\n    .dataframe tbody tr th {\n        vertical-align: top;\n    }\n\n    .dataframe thead th {\n        text-align: right;\n    }\n</style>\n<table border=\"1\" class=\"dataframe\">\n  <thead>\n    <tr style=\"text-align: right;\">\n      <th></th>\n      <th>expanded</th>\n      <th>statistics_actual_likeCount</th>\n      <th>statistics_actual_shareCount</th>\n      <th>statistics_actual_commentCount</th>\n      <th>statistics_actual_loveCount</th>\n      <th>statistics_actual_wowCount</th>\n      <th>statistics_actual_hahaCount</th>\n      <th>statistics_actual_sadCount</th>\n      <th>statistics_actual_angryCount</th>\n      <th>engagement</th>\n      <th>count</th>\n      <th>account_url</th>\n      <th>coor_account_url</th>\n      <th>account_name</th>\n      <th>coor_account_name</th>\n      <th>components</th>\n    </tr>\n  </thead>\n  <tbody>\n    <tr>\n      <th>0</th>\n      <td>https://www.telesurenglish.net/news/Bolivia-Ro...</td>\n      <td>13101</td>\n      <td>9151</td>\n      <td>906</td>\n      <td>2898</td>\n      <td>520</td>\n      <td>36</td>\n      <td>35</td>\n      <td>17</td>\n      <td>26664</td>\n      <td>108</td>\n      <td>[https://www.facebook.com/1031686746989127, ht...</td>\n      <td>[https://www.facebook.com/1031686746989127, ht...</td>\n      <td>[AFROMEXICO, Adriana Avendaño Christie, Age of...</td>\n      <td>[AFROMEXICO, Adriana Avendaño Christie, Age of...</td>\n      <td>[1]</td>\n    </tr>\n    <tr>\n      <th>1</th>\n      <td>https://www.telesurenglish.net/news/UNGA-Overw...</td>\n      <td>3916</td>\n      <td>4143</td>\n      <td>257</td>\n      <td>857</td>\n      <td>142</td>\n      <td>34</td>\n      <td>12</td>\n      <td>34</td>\n      <td>9395</td>\n      <td>50</td>\n      <td>[https://www.facebook.com/1147524838680378, ht...</td>\n      <td>[https://www.facebook.com/1147524838680378, ht...</td>\n      <td>[#UniteTheTribes, AZANIAN TRUE POLITICAL HISTO...</td>\n      <td>[#UniteTheTribes, Asuntos Cubanos, Australia C...</td>\n      <td>[1]</td>\n    </tr>\n  </tbody>\n</table>\n</div>"
     },
     "metadata": {},
     "execution_count": 19
    }
   ],
   "source": [
    "top_urls_df"
   ]
  },
  {
   "cell_type": "code",
   "execution_count": null,
   "metadata": {},
   "outputs": [],
   "source": []
  }
 ]
}